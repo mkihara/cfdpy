{
 "cells": [
  {
   "cell_type": "code",
   "execution_count": null,
   "metadata": {},
   "outputs": [],
   "source": [
    "import numpy as np\n",
    "from numpy import pi\n",
    "from scipy.interpolate import CubicSpline\n",
    "from integrate.lowStorageRungeKuttaMethods import LSRK3\n",
    "from derivative.spectralMethods import spectralMethod1\n",
    "from utils.grid import wallNormalGrid\n",
    "from scipy.sparse.linalg import LinearOperator, gmres\n",
    "from utils.wallLaw import velocityProfile"
   ]
  },
  {
   "cell_type": "code",
   "execution_count": null,
   "metadata": {},
   "outputs": [],
   "source": [
    "class channel2(object):\n",
    "    nx = 384\n",
    "    ny = 255\n",
    "    lx = 2. * pi\n",
    "    Ret = 400\n",
    "    nu = 1.\n",
    "    delta = 1.\n",
    "    eta = 0.97\n",
    "    dt = 0.01\n",
    "    def __init__(self):\n",
    "        self.x = np.linspace(0, self.lx, self.nx, endpoint=False)\n",
    "        self.y = wallNormalGrid(self.ny, self.eta, self.delta)\n",
    "        self.dx = self.lx / self.nx\n",
    "        self.integrate = LSRK3()\n",
    "        self.spectral = spectralMethod1(n=self.nx, d=self.dx)\n",
    "        self.force = velocityProfile(self.Ret) ** -2\n",
    "        self.p_shape = (self.ny, self.nx)\n",
    "        self.A_shape = (self.nx*self.ny, self.nx*self.ny)\n",
    "        self.exitCode = 0\n",
    "        self.A = LinearOperator(self.A_shape, matvec=self.lhs2)\n",
    "\n",
    "    def rhs1(self, t, u):\n",
    "        u_interp = CubicSpline(self.y, u, axis=-2, bc_type=((0, 0.), (0, 0.)))\n",
    "        return ( - u[0] * self.spectral.diff_phys(u)\n",
    "                 - u[1] * u_interp(self.y, nu=1)\n",
    "                 + self.nu * (self.spectral.diff_phys(u, order=2)\n",
    "                            + u_interp(self.y, nu=2))\n",
    "                 + self.force )\n",
    "\n",
    "    def lhs2(self, p_flatten):\n",
    "        p = np.reshape(p_flatten, self.p_shape)\n",
    "        p_interp = CubicSpline(self.y, p, axis=-2, bc_type=((1, 0.), (1, 0.)))\n",
    "        p = self.spectral.diff_phys(p, order=2) + p_interp(self.y, nu=2)\n",
    "        return p.flatten()\n",
    "\n",
    "    def rhs2(self, u):\n",
    "        u_interp = CubicSpline(self.y, u[1], axis=-2, bc_type=((0, 0.), (0, 0.)))\n",
    "        return (self.spectral.diff_phys(u[0])\n",
    "                + u_interp(self.y, nu=1)) / self.dt\n",
    "\n",
    "    def rhs3(self):\n",
    "        p_interp = CubicSpline(self.y, self.p, axis=-2, bc_type=((1, 0.), (1, 0.)))\n",
    "        return np.stack((self.spectral.diff_phys(self.p, order=1), p_interp(self.y, nu=1)))\n",
    "\n",
    "    def step(self):\n",
    "        u = self.integrate.step(fun=self.rhs1, u=self.u, t=0, dt=self.dt)\n",
    "        p_flatten, self.exitCode = gmres(A=self.A, b=self.rhs2(u), x0=self.p)\n",
    "        self.p = np.reshape(p_flatten, self.p_shape)\n",
    "        self.u -= self.dt * self.rhs3()\n",
    "\n",
    "    def solve(self, u0, t0, ts_span, p0=None):\n",
    "        self.u = u0\n",
    "        self.t = t0\n",
    "        self.p = p0\n",
    "        for ts in range(ts_span[0], ts_span[1]+1):\n",
    "            self.step()\n",
    "            self.t = t0 + self.dt*ts"
   ]
  },
  {
   "cell_type": "code",
   "execution_count": null,
   "metadata": {},
   "outputs": [],
   "source": [
    "tcf = channel2()\n",
    "u0 = np.zeros((tcf.ny, tcf.nx))\n",
    "v0 = np.zeros((tcf.ny, tcf.nx))\n",
    "# u0[:,None] = velocityProfile(np.abs(tcf.y))\n",
    "U0 = np.stack((u0, v0))\n",
    "t0 = 0\n",
    "ts_span = (0, 10)\n",
    "# tcf.solve(U0, t0, ts_span)"
   ]
  },
  {
   "cell_type": "code",
   "execution_count": null,
   "metadata": {},
   "outputs": [],
   "source": []
  }
 ],
 "metadata": {
  "interpreter": {
   "hash": "5e0b7a6ebcfa35c50262c446678eb535df5ed5e5c5baebadce7b9371d406df72"
  },
  "kernelspec": {
   "display_name": "Python 3.10.2 64-bit",
   "language": "python",
   "name": "python3"
  },
  "language_info": {
   "codemirror_mode": {
    "name": "ipython",
    "version": 3
   },
   "file_extension": ".py",
   "mimetype": "text/x-python",
   "name": "python",
   "nbconvert_exporter": "python",
   "pygments_lexer": "ipython3",
   "version": "3.10.2"
  },
  "orig_nbformat": 4
 },
 "nbformat": 4,
 "nbformat_minor": 2
}
